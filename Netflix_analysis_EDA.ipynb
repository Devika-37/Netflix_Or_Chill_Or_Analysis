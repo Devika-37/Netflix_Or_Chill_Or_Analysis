{
 "cells": [
  {
   "cell_type": "code",
   "execution_count": 1,
   "id": "1295c098-10f6-4ff2-afef-829fabf52525",
   "metadata": {},
   "outputs": [
    {
     "name": "stdout",
     "output_type": "stream",
     "text": [
      "Data cleaned and saved to 'cleaned_netflix_titles.csv'\n"
     ]
    },
    {
     "name": "stderr",
     "output_type": "stream",
     "text": [
      "/var/folders/h9/xh12xl9n2511z11pd_scwsym0000gn/T/ipykernel_2805/1790949443.py:20: FutureWarning: DataFrame.applymap has been deprecated. Use DataFrame.map instead.\n",
      "  genres_split = genres_split.applymap(lambda x: x.strip() if isinstance(x, str) else x)\n"
     ]
    }
   ],
   "source": [
    "import pandas as pd\n",
    "\n",
    "# Load the CSV file\n",
    "df = pd.read_csv(\"netflix_titles.csv\")\n",
    "\n",
    "# 1. Drop duplicate entries\n",
    "df = df.drop_duplicates()\n",
    "\n",
    "# 2. Drop rows with null values\n",
    "df = df.dropna()\n",
    "\n",
    "# 3. Extract only the first country (before comma), replace 'country' column\n",
    "df['country'] = df['country'].apply(lambda x: x.split(',')[0].strip())\n",
    "\n",
    "# 4. Split 'listed_in' genres into separate columns\n",
    "# First, split genres by comma\n",
    "genres_split = df['listed_in'].str.split(',', expand=True)\n",
    "\n",
    "# Strip any extra whitespace\n",
    "genres_split = genres_split.applymap(lambda x: x.strip() if isinstance(x, str) else x)\n",
    "\n",
    "# Rename the genre columns\n",
    "genres_split.columns = [f'genre_{i+1}' for i in range(genres_split.shape[1])]\n",
    "\n",
    "# Drop the original 'listed_in' column and join new genre columns\n",
    "df = df.drop(columns=['listed_in'])\n",
    "df = pd.concat([df, genres_split], axis=1)\n",
    "\n",
    "# 5. Drop any newly formed null rows\n",
    "df = df.dropna()\n",
    "\n",
    "# 6. Save to new CSV\n",
    "df.to_csv(\"cleaned_netflix_titles.csv\", index=False)\n",
    "\n",
    "print(\"Data cleaned and saved to 'cleaned_netflix_titles.csv'\")\n"
   ]
  },
  {
   "cell_type": "code",
   "execution_count": null,
   "id": "c47bf574-ca53-4680-ae11-7f827341db82",
   "metadata": {},
   "outputs": [],
   "source": []
  }
 ],
 "metadata": {
  "kernelspec": {
   "display_name": "Python 3 (ipykernel)",
   "language": "python",
   "name": "python3"
  },
  "language_info": {
   "codemirror_mode": {
    "name": "ipython",
    "version": 3
   },
   "file_extension": ".py",
   "mimetype": "text/x-python",
   "name": "python",
   "nbconvert_exporter": "python",
   "pygments_lexer": "ipython3",
   "version": "3.12.1"
  }
 },
 "nbformat": 4,
 "nbformat_minor": 5
}
